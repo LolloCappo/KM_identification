{
 "cells": [
  {
   "cell_type": "code",
   "execution_count": null,
   "metadata": {},
   "outputs": [],
   "source": [
    "import numpy as np\n",
    "import pyLIA\n",
    "import ThermCoeff"
   ]
  },
  {
   "cell_type": "code",
   "execution_count": 2,
   "metadata": {},
   "outputs": [],
   "source": [
    "s = 'steel'                         # Steel material is chosen\n",
    "km = ThermCoeff.from_material(s)    # Thermoelastic coefficient of steel is obtained"
   ]
  },
  {
   "cell_type": "code",
   "execution_count": 4,
   "metadata": {},
   "outputs": [],
   "source": [
    "# Uniaxial strain-gauge \n",
    "eps = np.random.rand(1000)           # Simulated strain from strain-gauge\n",
    "strain = ThermCoeff.get_strain(eps)  # Obtain strain"
   ]
  },
  {
   "cell_type": "code",
   "execution_count": 5,
   "metadata": {},
   "outputs": [],
   "source": [
    "# Strain-gauge rosette\n",
    "eps = np.random.rand(1000, 3)                           # Simulated strain from rosette\n",
    "configuration = '90'                                    # Angular configuration of the rosette\n",
    "strain = ThermCoeff.get_strain(eps, configuration)      # Obtain strain"
   ]
  },
  {
   "cell_type": "code",
   "execution_count": 8,
   "metadata": {},
   "outputs": [],
   "source": [
    "filename = './data/rec.sfmov'   # Path to the thermal video\n",
    "data = sfmov.get_data(filename) # Load the data\n",
    "\n",
    "fs = 400                        # Sampling frequency [Hz]\n",
    "fl = 40                         # Load frequency [Hz]\n",
    "location = 56, 38, 30, 70       # Location of the strain-gauge on the camera field of view\n",
    "\n",
    "E = 75 * 10**9                  # Young Modulus [Pa]\n",
    "ni = 0.33                       # Poisson's ratio\n",
    "\n",
    "km = ThermCoeff.from_strain_gauge(data, fs, fl, E, ni, strain, location)"
   ]
  }
 ],
 "metadata": {
  "kernelspec": {
   "display_name": "Python 3",
   "language": "python",
   "name": "python3"
  },
  "language_info": {
   "codemirror_mode": {
    "name": "ipython",
    "version": 3
   },
   "file_extension": ".py",
   "mimetype": "text/x-python",
   "name": "python",
   "nbconvert_exporter": "python",
   "pygments_lexer": "ipython3",
   "version": "3.7.6"
  }
 },
 "nbformat": 4,
 "nbformat_minor": 4
}
